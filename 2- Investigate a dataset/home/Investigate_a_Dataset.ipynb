{
 "cells": [
  {
   "cell_type": "markdown",
   "metadata": {},
   "source": [
    "# Project: Investigate a Dataset (Replace this with something more specific!)\n",
    "\n",
    "## Table of Contents\n",
    "<ul>\n",
    "<li><a href=\"#intro\">Introduction</a></li>\n",
    "<li><a href=\"#wrangling\">Data Wrangling</a></li>\n",
    "<li><a href=\"#eda\">Exploratory Data Analysis</a></li>\n",
    "<li><a href=\"#conclusions\">Conclusions</a></li>\n",
    "</ul>"
   ]
  },
  {
   "cell_type": "markdown",
   "metadata": {},
   "source": [
    "<a id='intro'></a>\n",
    "## Introduction\n",
    "\n",
    "For the second project in the Udacity Data Analyst nanodegree, I picked the Kaggle data set (curated by Udacity) named 'No-shows at Brazil medical appointments', which contains over 110,500 appointment records, with information ranging from the neighborhood of the hospital, whether or not they are enrolled in a government aid program, whether they have been diagnosed with hypertension, alcoholism, etc., with the final column denoting whether or not they showed up for their appointment.\n",
    "\n",
    "For this analysis, I picked the questions:<br>\n",
    "_**1. What does the 'Gender' column tell us about the data set?**_<br>\n",
    "_**2. How much do the health condition diagnoses provided in the dataset affect a patient's willigness to show up to an appointment?**_\n",
    "\n",
    "For the purposes of this analysis, I considered all 4 conditions (hypertension, diabetes, alcoholism, and physical handicap) as illnesses."
   ]
  },
  {
   "cell_type": "markdown",
   "metadata": {},
   "source": [
    "I used the following Python libraries in this analysis:"
   ]
  },
  {
   "cell_type": "code",
   "execution_count": 2,
   "metadata": {},
   "outputs": [],
   "source": [
    "# Import statements for the packages to be used.\n",
    "import numpy as np\n",
    "import pandas as pd\n",
    "import matplotlib.pyplot as plt\n",
    "\n",
    "%matplotlib inline\n"
   ]
  },
  {
   "cell_type": "markdown",
   "metadata": {},
   "source": [
    "<a id='wrangling'></a>\n",
    "## Data Wrangling"
   ]
  },
  {
   "cell_type": "code",
   "execution_count": 3,
   "metadata": {},
   "outputs": [
    {
     "data": {
      "text/html": [
       "<div>\n",
       "<style scoped>\n",
       "    .dataframe tbody tr th:only-of-type {\n",
       "        vertical-align: middle;\n",
       "    }\n",
       "\n",
       "    .dataframe tbody tr th {\n",
       "        vertical-align: top;\n",
       "    }\n",
       "\n",
       "    .dataframe thead th {\n",
       "        text-align: right;\n",
       "    }\n",
       "</style>\n",
       "<table border=\"1\" class=\"dataframe\">\n",
       "  <thead>\n",
       "    <tr style=\"text-align: right;\">\n",
       "      <th></th>\n",
       "      <th>PatientId</th>\n",
       "      <th>AppointmentID</th>\n",
       "      <th>Gender</th>\n",
       "      <th>ScheduledDay</th>\n",
       "      <th>AppointmentDay</th>\n",
       "      <th>Age</th>\n",
       "      <th>Neighbourhood</th>\n",
       "      <th>Scholarship</th>\n",
       "      <th>Hipertension</th>\n",
       "      <th>Diabetes</th>\n",
       "      <th>Alcoholism</th>\n",
       "      <th>Handcap</th>\n",
       "      <th>SMS_received</th>\n",
       "      <th>No-show</th>\n",
       "    </tr>\n",
       "  </thead>\n",
       "  <tbody>\n",
       "    <tr>\n",
       "      <th>0</th>\n",
       "      <td>2.987250e+13</td>\n",
       "      <td>5642903</td>\n",
       "      <td>F</td>\n",
       "      <td>2016-04-29T18:38:08Z</td>\n",
       "      <td>2016-04-29T00:00:00Z</td>\n",
       "      <td>62</td>\n",
       "      <td>JARDIM DA PENHA</td>\n",
       "      <td>0</td>\n",
       "      <td>1</td>\n",
       "      <td>0</td>\n",
       "      <td>0</td>\n",
       "      <td>0</td>\n",
       "      <td>0</td>\n",
       "      <td>No</td>\n",
       "    </tr>\n",
       "    <tr>\n",
       "      <th>1</th>\n",
       "      <td>5.589978e+14</td>\n",
       "      <td>5642503</td>\n",
       "      <td>M</td>\n",
       "      <td>2016-04-29T16:08:27Z</td>\n",
       "      <td>2016-04-29T00:00:00Z</td>\n",
       "      <td>56</td>\n",
       "      <td>JARDIM DA PENHA</td>\n",
       "      <td>0</td>\n",
       "      <td>0</td>\n",
       "      <td>0</td>\n",
       "      <td>0</td>\n",
       "      <td>0</td>\n",
       "      <td>0</td>\n",
       "      <td>No</td>\n",
       "    </tr>\n",
       "    <tr>\n",
       "      <th>2</th>\n",
       "      <td>4.262962e+12</td>\n",
       "      <td>5642549</td>\n",
       "      <td>F</td>\n",
       "      <td>2016-04-29T16:19:04Z</td>\n",
       "      <td>2016-04-29T00:00:00Z</td>\n",
       "      <td>62</td>\n",
       "      <td>MATA DA PRAIA</td>\n",
       "      <td>0</td>\n",
       "      <td>0</td>\n",
       "      <td>0</td>\n",
       "      <td>0</td>\n",
       "      <td>0</td>\n",
       "      <td>0</td>\n",
       "      <td>No</td>\n",
       "    </tr>\n",
       "    <tr>\n",
       "      <th>3</th>\n",
       "      <td>8.679512e+11</td>\n",
       "      <td>5642828</td>\n",
       "      <td>F</td>\n",
       "      <td>2016-04-29T17:29:31Z</td>\n",
       "      <td>2016-04-29T00:00:00Z</td>\n",
       "      <td>8</td>\n",
       "      <td>PONTAL DE CAMBURI</td>\n",
       "      <td>0</td>\n",
       "      <td>0</td>\n",
       "      <td>0</td>\n",
       "      <td>0</td>\n",
       "      <td>0</td>\n",
       "      <td>0</td>\n",
       "      <td>No</td>\n",
       "    </tr>\n",
       "    <tr>\n",
       "      <th>4</th>\n",
       "      <td>8.841186e+12</td>\n",
       "      <td>5642494</td>\n",
       "      <td>F</td>\n",
       "      <td>2016-04-29T16:07:23Z</td>\n",
       "      <td>2016-04-29T00:00:00Z</td>\n",
       "      <td>56</td>\n",
       "      <td>JARDIM DA PENHA</td>\n",
       "      <td>0</td>\n",
       "      <td>1</td>\n",
       "      <td>1</td>\n",
       "      <td>0</td>\n",
       "      <td>0</td>\n",
       "      <td>0</td>\n",
       "      <td>No</td>\n",
       "    </tr>\n",
       "  </tbody>\n",
       "</table>\n",
       "</div>"
      ],
      "text/plain": [
       "      PatientId  AppointmentID Gender          ScheduledDay  \\\n",
       "0  2.987250e+13        5642903      F  2016-04-29T18:38:08Z   \n",
       "1  5.589978e+14        5642503      M  2016-04-29T16:08:27Z   \n",
       "2  4.262962e+12        5642549      F  2016-04-29T16:19:04Z   \n",
       "3  8.679512e+11        5642828      F  2016-04-29T17:29:31Z   \n",
       "4  8.841186e+12        5642494      F  2016-04-29T16:07:23Z   \n",
       "\n",
       "         AppointmentDay  Age      Neighbourhood  Scholarship  Hipertension  \\\n",
       "0  2016-04-29T00:00:00Z   62    JARDIM DA PENHA            0             1   \n",
       "1  2016-04-29T00:00:00Z   56    JARDIM DA PENHA            0             0   \n",
       "2  2016-04-29T00:00:00Z   62      MATA DA PRAIA            0             0   \n",
       "3  2016-04-29T00:00:00Z    8  PONTAL DE CAMBURI            0             0   \n",
       "4  2016-04-29T00:00:00Z   56    JARDIM DA PENHA            0             1   \n",
       "\n",
       "   Diabetes  Alcoholism  Handcap  SMS_received No-show  \n",
       "0         0           0        0             0      No  \n",
       "1         0           0        0             0      No  \n",
       "2         0           0        0             0      No  \n",
       "3         0           0        0             0      No  \n",
       "4         1           0        0             0      No  "
      ]
     },
     "execution_count": 3,
     "metadata": {},
     "output_type": "execute_result"
    }
   ],
   "source": [
    "# Load data and print out the head\n",
    "df = pd.read_csv('noshowappointments-kagglev2-may-2016.csv')\n",
    "df.head()"
   ]
  },
  {
   "cell_type": "code",
   "execution_count": 3,
   "metadata": {},
   "outputs": [
    {
     "name": "stdout",
     "output_type": "stream",
     "text": [
      "<class 'pandas.core.frame.DataFrame'>\n",
      "RangeIndex: 110527 entries, 0 to 110526\n",
      "Data columns (total 14 columns):\n",
      "PatientId         110527 non-null float64\n",
      "AppointmentID     110527 non-null int64\n",
      "Gender            110527 non-null object\n",
      "ScheduledDay      110527 non-null object\n",
      "AppointmentDay    110527 non-null object\n",
      "Age               110527 non-null int64\n",
      "Neighbourhood     110527 non-null object\n",
      "Scholarship       110527 non-null int64\n",
      "Hipertension      110527 non-null int64\n",
      "Diabetes          110527 non-null int64\n",
      "Alcoholism        110527 non-null int64\n",
      "Handcap           110527 non-null int64\n",
      "SMS_received      110527 non-null int64\n",
      "No-show           110527 non-null object\n",
      "dtypes: float64(1), int64(8), object(5)\n",
      "memory usage: 11.8+ MB\n"
     ]
    }
   ],
   "source": [
    "# Getting a summary of the dataframe record number and data types\n",
    "df.info()"
   ]
  },
  {
   "cell_type": "code",
   "execution_count": 4,
   "metadata": {},
   "outputs": [
    {
     "data": {
      "text/html": [
       "<div>\n",
       "<style scoped>\n",
       "    .dataframe tbody tr th:only-of-type {\n",
       "        vertical-align: middle;\n",
       "    }\n",
       "\n",
       "    .dataframe tbody tr th {\n",
       "        vertical-align: top;\n",
       "    }\n",
       "\n",
       "    .dataframe thead th {\n",
       "        text-align: right;\n",
       "    }\n",
       "</style>\n",
       "<table border=\"1\" class=\"dataframe\">\n",
       "  <thead>\n",
       "    <tr style=\"text-align: right;\">\n",
       "      <th></th>\n",
       "      <th>PatientId</th>\n",
       "      <th>AppointmentID</th>\n",
       "      <th>Age</th>\n",
       "      <th>Scholarship</th>\n",
       "      <th>Hipertension</th>\n",
       "      <th>Diabetes</th>\n",
       "      <th>Alcoholism</th>\n",
       "      <th>Handcap</th>\n",
       "      <th>SMS_received</th>\n",
       "    </tr>\n",
       "  </thead>\n",
       "  <tbody>\n",
       "    <tr>\n",
       "      <th>count</th>\n",
       "      <td>1.105270e+05</td>\n",
       "      <td>1.105270e+05</td>\n",
       "      <td>110527.000000</td>\n",
       "      <td>110527.000000</td>\n",
       "      <td>110527.000000</td>\n",
       "      <td>110527.000000</td>\n",
       "      <td>110527.000000</td>\n",
       "      <td>110527.000000</td>\n",
       "      <td>110527.000000</td>\n",
       "    </tr>\n",
       "    <tr>\n",
       "      <th>mean</th>\n",
       "      <td>1.474963e+14</td>\n",
       "      <td>5.675305e+06</td>\n",
       "      <td>37.088874</td>\n",
       "      <td>0.098266</td>\n",
       "      <td>0.197246</td>\n",
       "      <td>0.071865</td>\n",
       "      <td>0.030400</td>\n",
       "      <td>0.022248</td>\n",
       "      <td>0.321026</td>\n",
       "    </tr>\n",
       "    <tr>\n",
       "      <th>std</th>\n",
       "      <td>2.560949e+14</td>\n",
       "      <td>7.129575e+04</td>\n",
       "      <td>23.110205</td>\n",
       "      <td>0.297675</td>\n",
       "      <td>0.397921</td>\n",
       "      <td>0.258265</td>\n",
       "      <td>0.171686</td>\n",
       "      <td>0.161543</td>\n",
       "      <td>0.466873</td>\n",
       "    </tr>\n",
       "    <tr>\n",
       "      <th>min</th>\n",
       "      <td>3.921784e+04</td>\n",
       "      <td>5.030230e+06</td>\n",
       "      <td>-1.000000</td>\n",
       "      <td>0.000000</td>\n",
       "      <td>0.000000</td>\n",
       "      <td>0.000000</td>\n",
       "      <td>0.000000</td>\n",
       "      <td>0.000000</td>\n",
       "      <td>0.000000</td>\n",
       "    </tr>\n",
       "    <tr>\n",
       "      <th>25%</th>\n",
       "      <td>4.172614e+12</td>\n",
       "      <td>5.640286e+06</td>\n",
       "      <td>18.000000</td>\n",
       "      <td>0.000000</td>\n",
       "      <td>0.000000</td>\n",
       "      <td>0.000000</td>\n",
       "      <td>0.000000</td>\n",
       "      <td>0.000000</td>\n",
       "      <td>0.000000</td>\n",
       "    </tr>\n",
       "    <tr>\n",
       "      <th>50%</th>\n",
       "      <td>3.173184e+13</td>\n",
       "      <td>5.680573e+06</td>\n",
       "      <td>37.000000</td>\n",
       "      <td>0.000000</td>\n",
       "      <td>0.000000</td>\n",
       "      <td>0.000000</td>\n",
       "      <td>0.000000</td>\n",
       "      <td>0.000000</td>\n",
       "      <td>0.000000</td>\n",
       "    </tr>\n",
       "    <tr>\n",
       "      <th>75%</th>\n",
       "      <td>9.439172e+13</td>\n",
       "      <td>5.725524e+06</td>\n",
       "      <td>55.000000</td>\n",
       "      <td>0.000000</td>\n",
       "      <td>0.000000</td>\n",
       "      <td>0.000000</td>\n",
       "      <td>0.000000</td>\n",
       "      <td>0.000000</td>\n",
       "      <td>1.000000</td>\n",
       "    </tr>\n",
       "    <tr>\n",
       "      <th>max</th>\n",
       "      <td>9.999816e+14</td>\n",
       "      <td>5.790484e+06</td>\n",
       "      <td>115.000000</td>\n",
       "      <td>1.000000</td>\n",
       "      <td>1.000000</td>\n",
       "      <td>1.000000</td>\n",
       "      <td>1.000000</td>\n",
       "      <td>4.000000</td>\n",
       "      <td>1.000000</td>\n",
       "    </tr>\n",
       "  </tbody>\n",
       "</table>\n",
       "</div>"
      ],
      "text/plain": [
       "          PatientId  AppointmentID            Age    Scholarship  \\\n",
       "count  1.105270e+05   1.105270e+05  110527.000000  110527.000000   \n",
       "mean   1.474963e+14   5.675305e+06      37.088874       0.098266   \n",
       "std    2.560949e+14   7.129575e+04      23.110205       0.297675   \n",
       "min    3.921784e+04   5.030230e+06      -1.000000       0.000000   \n",
       "25%    4.172614e+12   5.640286e+06      18.000000       0.000000   \n",
       "50%    3.173184e+13   5.680573e+06      37.000000       0.000000   \n",
       "75%    9.439172e+13   5.725524e+06      55.000000       0.000000   \n",
       "max    9.999816e+14   5.790484e+06     115.000000       1.000000   \n",
       "\n",
       "        Hipertension       Diabetes     Alcoholism        Handcap  \\\n",
       "count  110527.000000  110527.000000  110527.000000  110527.000000   \n",
       "mean        0.197246       0.071865       0.030400       0.022248   \n",
       "std         0.397921       0.258265       0.171686       0.161543   \n",
       "min         0.000000       0.000000       0.000000       0.000000   \n",
       "25%         0.000000       0.000000       0.000000       0.000000   \n",
       "50%         0.000000       0.000000       0.000000       0.000000   \n",
       "75%         0.000000       0.000000       0.000000       0.000000   \n",
       "max         1.000000       1.000000       1.000000       4.000000   \n",
       "\n",
       "        SMS_received  \n",
       "count  110527.000000  \n",
       "mean        0.321026  \n",
       "std         0.466873  \n",
       "min         0.000000  \n",
       "25%         0.000000  \n",
       "50%         0.000000  \n",
       "75%         1.000000  \n",
       "max         1.000000  "
      ]
     },
     "execution_count": 4,
     "metadata": {},
     "output_type": "execute_result"
    }
   ],
   "source": [
    "# Description of the dataframe values\n",
    "df.describe()"
   ]
  },
  {
   "cell_type": "code",
   "execution_count": 5,
   "metadata": {},
   "outputs": [
    {
     "data": {
      "text/plain": [
       "0    108286\n",
       "1      2042\n",
       "2       183\n",
       "3        13\n",
       "4         3\n",
       "Name: Handcap, dtype: int64"
      ]
     },
     "execution_count": 5,
     "metadata": {},
     "output_type": "execute_result"
    }
   ],
   "source": [
    "# Verifying whether the 'Handicap' column should actually have max value of 4\n",
    "df['Handcap'].value_counts()"
   ]
  },
  {
   "cell_type": "markdown",
   "metadata": {},
   "source": [
    "It looked like the values in this column meant something that had not been disclosed in the dataset notes (e.g. different levels of handicap). Without further insight into the meaning of the numbers and to keep the analysis at a high-enough level, I changed the positive values to '1' in the Data Cleaning section below in order to denote when an individual was handicapped."
   ]
  },
  {
   "cell_type": "code",
   "execution_count": 5,
   "metadata": {},
   "outputs": [
    {
     "data": {
      "text/plain": [
       "0"
      ]
     },
     "execution_count": 5,
     "metadata": {},
     "output_type": "execute_result"
    }
   ],
   "source": [
    "# Checking for duplicate values\n",
    "sum(df.duplicated())"
   ]
  },
  {
   "cell_type": "markdown",
   "metadata": {},
   "source": [
    "### Initial thoughts and list of wrangling steps to take\n",
    "\n",
    "On the overall, the dataset required very minimal cleaning and wrangling. There were no duplicate values to handle, and the number of records was the same throughout all the columns. I took the following data cleaning and wrangling steps to make the analysis easier:\n",
    "\n",
    "1. Since I did not use the neighbourhood information in our analysis, I dropped that column.\n",
    "2. I converted all column names to snake case.\n",
    "3. I renamed the following columns:\n",
    "  1. 'Hipertension': 'hypertensive'\n",
    "  2. 'Diabetes': 'diabetic'\n",
    "  3. 'Alcoholism': 'alcoholic'\n",
    "  4. 'Handcap': 'handicapped'\n",
    "4. I made the following column type conversions:\n",
    "  1. ScheduledDay, AppointmentDay = DateTime. Although this type conversion was not necessarily required for my analysis, doing this will help to make the file easier to analyze in the future. \n",
    "  2. PatientId = Integer\n",
    "5. I converted 'No-show' to binary (0 to denote 'No' and 1 to denote 'Yes') for ease of use.\n",
    "6. Since age cannot be negative or zero (also to make the analysis generally applicable), I excluded anyone above 100 years of age.\n",
    "7. I changed the 2, 3, 4 in 'handicapped' column to '1'."
   ]
  },
  {
   "cell_type": "markdown",
   "metadata": {},
   "source": [
    "### Data Cleaning\n",
    "\n",
    "All of the data cleaning in the cells below is followed by statements to ensure that the change took place.\n",
    "\n",
    "I started by removing the 'Neighbourhood' column:"
   ]
  },
  {
   "cell_type": "code",
   "execution_count": 4,
   "metadata": {},
   "outputs": [
    {
     "data": {
      "text/plain": [
       "Index(['PatientId', 'AppointmentID', 'Gender', 'ScheduledDay',\n",
       "       'AppointmentDay', 'Age', 'Scholarship', 'Hipertension', 'Diabetes',\n",
       "       'Alcoholism', 'Handcap', 'SMS_received', 'No-show'],\n",
       "      dtype='object')"
      ]
     },
     "execution_count": 4,
     "metadata": {},
     "output_type": "execute_result"
    }
   ],
   "source": [
    "# Drop the 'neighborhood column'\n",
    "df.drop('Neighbourhood', axis=1, inplace=True)\n",
    "\n",
    "# Confirm that the column has been dropped\n",
    "df.columns"
   ]
  },
  {
   "cell_type": "markdown",
   "metadata": {},
   "source": [
    "Then, I changed the column names to snake case and renamed 3 columns (note point 3 in the above section)"
   ]
  },
  {
   "cell_type": "code",
   "execution_count": 5,
   "metadata": {},
   "outputs": [
    {
     "data": {
      "text/plain": [
       "Index(['patient_id', 'appointment_id', 'gender', 'scheduled_day',\n",
       "       'appointment_day', 'age', 'scholarship', 'hypertensive', 'diabetic',\n",
       "       'alcoholic', 'handicapped', 'sms_received', 'no_show'],\n",
       "      dtype='object')"
      ]
     },
     "execution_count": 5,
     "metadata": {},
     "output_type": "execute_result"
    }
   ],
   "source": [
    "# Rename columns and change to snake case\n",
    "\n",
    "df.rename(columns={'PatientId':'patient_id',\n",
    "                   'AppointmentID':'appointment_id',\n",
    "                   'Gender':'gender',\n",
    "                   'ScheduledDay':'scheduled_day',\n",
    "                   'AppointmentDay':'appointment_day',\n",
    "                   'Age':'age',\n",
    "                   'Scholarship':'scholarship',\n",
    "                   'Hipertension':'hypertensive',\n",
    "                   'Diabetes':'diabetic',\n",
    "                   'Alcoholism':'alcoholic',\n",
    "                   'Handcap':'handicapped',\n",
    "                   'SMS_received':'sms_received',\n",
    "                   'No-show':'no_show'}, inplace=True)\n",
    "\n",
    "# Check that it worked\n",
    "df.columns"
   ]
  },
  {
   "cell_type": "markdown",
   "metadata": {},
   "source": [
    "Next, I converted the no_show column to binary, with 0 denoting 'No' and 1 denoting 'Yes'."
   ]
  },
  {
   "cell_type": "code",
   "execution_count": 6,
   "metadata": {},
   "outputs": [
    {
     "data": {
      "text/plain": [
       "0    88208\n",
       "1    22319\n",
       "Name: no_show, dtype: int64"
      ]
     },
     "execution_count": 6,
     "metadata": {},
     "output_type": "execute_result"
    }
   ],
   "source": [
    "# Change the 'No' and 'Yes' in 'no_show' to 0 and 1 respectively\n",
    "df['no_show'].replace({'No':0,'Yes':1},inplace=True)\n",
    "\n",
    "# Confirm the change\n",
    "df.no_show.value_counts()"
   ]
  },
  {
   "cell_type": "markdown",
   "metadata": {},
   "source": [
    "I made a similar change to the df.handicapped column; however, since I was changing a number of values in this case, I chose to use a lambda function"
   ]
  },
  {
   "cell_type": "code",
   "execution_count": 7,
   "metadata": {},
   "outputs": [
    {
     "data": {
      "text/plain": [
       "0    108286\n",
       "1      2241\n",
       "Name: handicapped, dtype: int64"
      ]
     },
     "execution_count": 7,
     "metadata": {},
     "output_type": "execute_result"
    }
   ],
   "source": [
    "# Change df.handicapped to binary (0 if 'False' and '1' if True)\n",
    "df.handicapped = df.handicapped.apply(lambda x: 1 if x > 0 else 0)\n",
    "df.handicapped.value_counts()"
   ]
  },
  {
   "cell_type": "markdown",
   "metadata": {},
   "source": [
    "Following that, I made the type conversions as noted above:"
   ]
  },
  {
   "cell_type": "code",
   "execution_count": 8,
   "metadata": {
    "scrolled": false
   },
   "outputs": [
    {
     "data": {
      "text/plain": [
       "patient_id                  int64\n",
       "appointment_id              int64\n",
       "gender                     object\n",
       "scheduled_day      datetime64[ns]\n",
       "appointment_day    datetime64[ns]\n",
       "age                         int64\n",
       "scholarship                 int64\n",
       "hypertensive                int64\n",
       "diabetic                    int64\n",
       "alcoholic                   int64\n",
       "handicapped                 int64\n",
       "sms_received                int64\n",
       "no_show                     int64\n",
       "dtype: object"
      ]
     },
     "execution_count": 8,
     "metadata": {},
     "output_type": "execute_result"
    }
   ],
   "source": [
    "# Convert scheduled_day and appointment_day to DateTime\n",
    "\n",
    "df['scheduled_day'] = pd.to_datetime(df.scheduled_day)\n",
    "df['appointment_day'] = pd.to_datetime(df.appointment_day)\n",
    "\n",
    "# Convert PatientId to Integer\n",
    "df['patient_id'] = df.patient_id.astype('int64')\n",
    "\n",
    "# Convert no_show to Integer\n",
    "df['no_show'] = df.no_show.astype('int64')\n",
    "\n",
    "# Confirm column types change\n",
    "df.dtypes"
   ]
  },
  {
   "cell_type": "markdown",
   "metadata": {},
   "source": [
    "Next, I wanted to see how many values the dataset had of age < 1"
   ]
  },
  {
   "cell_type": "code",
   "execution_count": 9,
   "metadata": {},
   "outputs": [
    {
     "data": {
      "text/plain": [
       "patient_id         3540\n",
       "appointment_id     3540\n",
       "gender             3540\n",
       "scheduled_day      3540\n",
       "appointment_day    3540\n",
       "age                3540\n",
       "scholarship        3540\n",
       "hypertensive       3540\n",
       "diabetic           3540\n",
       "alcoholic          3540\n",
       "handicapped        3540\n",
       "sms_received       3540\n",
       "no_show            3540\n",
       "dtype: int64"
      ]
     },
     "execution_count": 9,
     "metadata": {},
     "output_type": "execute_result"
    }
   ],
   "source": [
    "# Count the number of records that have age < 1\n",
    "df_age_under_1 = df.query('age < 1').count()\n",
    "df_age_under_1"
   ]
  },
  {
   "cell_type": "markdown",
   "metadata": {},
   "source": [
    "Even though this was not a nontrivial number of records, these records would affect the findings and applicability of the analysis. They may have been erroneous entries or held a different meaning to the individual recording the data. I removed them from the data set as follows:"
   ]
  },
  {
   "cell_type": "code",
   "execution_count": 10,
   "metadata": {
    "scrolled": true
   },
   "outputs": [
    {
     "data": {
      "text/plain": [
       "patient_id         0\n",
       "appointment_id     0\n",
       "gender             0\n",
       "scheduled_day      0\n",
       "appointment_day    0\n",
       "age                0\n",
       "scholarship        0\n",
       "hypertensive       0\n",
       "diabetic           0\n",
       "alcoholic          0\n",
       "handicapped        0\n",
       "sms_received       0\n",
       "no_show            0\n",
       "dtype: int64"
      ]
     },
     "execution_count": 10,
     "metadata": {},
     "output_type": "execute_result"
    }
   ],
   "source": [
    "df = df.drop(df[df.age < 1].index)\n",
    "\n",
    "# Confirm that it worked\n",
    "df.query('age < 1').count()\n"
   ]
  },
  {
   "cell_type": "markdown",
   "metadata": {},
   "source": [
    "Similarly, I counted the number of records where the age is above 100 and remove those as well."
   ]
  },
  {
   "cell_type": "code",
   "execution_count": 13,
   "metadata": {},
   "outputs": [
    {
     "data": {
      "text/plain": [
       "patient_id         7\n",
       "appointment_id     7\n",
       "gender             7\n",
       "scheduled_day      7\n",
       "appointment_day    7\n",
       "age                7\n",
       "scholarship        7\n",
       "hypertensive       7\n",
       "diabetic           7\n",
       "alcoholic          7\n",
       "handicapped        7\n",
       "sms_received       7\n",
       "no_show            7\n",
       "dtype: int64"
      ]
     },
     "execution_count": 13,
     "metadata": {},
     "output_type": "execute_result"
    }
   ],
   "source": [
    "# Count the number of records that have age > 100\n",
    "df_age_over_100 = df.query('age > 100').count()\n",
    "df_age_over_100"
   ]
  },
  {
   "cell_type": "code",
   "execution_count": 11,
   "metadata": {
    "scrolled": true
   },
   "outputs": [
    {
     "data": {
      "text/plain": [
       "patient_id         0\n",
       "appointment_id     0\n",
       "gender             0\n",
       "scheduled_day      0\n",
       "appointment_day    0\n",
       "age                0\n",
       "scholarship        0\n",
       "hypertensive       0\n",
       "diabetic           0\n",
       "alcoholic          0\n",
       "handicapped        0\n",
       "sms_received       0\n",
       "no_show            0\n",
       "dtype: int64"
      ]
     },
     "execution_count": 11,
     "metadata": {},
     "output_type": "execute_result"
    }
   ],
   "source": [
    "# Drop records where age > 100\n",
    "df = df.drop(df[df.age > 100].index) #http://www.datasciencemadesimple.com/drop-delete-rows-conditions-python-pandas/\n",
    "\n",
    "# Confirm that it worked\n",
    "df.query('age > 100').count()"
   ]
  },
  {
   "cell_type": "markdown",
   "metadata": {},
   "source": [
    "Finally, I created a column that counted the number of health conditions each patient was diagnosed with. This would later help me with analyzing effects of multiple diagnoses on the patient's willingness/ability to show up to their doctor's appointment."
   ]
  },
  {
   "cell_type": "code",
   "execution_count": 12,
   "metadata": {},
   "outputs": [],
   "source": [
    "# Create a column to count the number of illnesses per patient\n",
    "df['num_of_diseases'] = 0\n",
    "df.num_of_diseases = df.apply(lambda x: x.hypertensive + x.diabetic + x.handicapped + x.alcoholic, axis = 1)"
   ]
  },
  {
   "cell_type": "markdown",
   "metadata": {},
   "source": [
    "<a id='eda'></a>\n",
    "## Exploratory Data Analysis"
   ]
  },
  {
   "cell_type": "markdown",
   "metadata": {},
   "source": [
    "### Question 1. What does the 'Gender' column tell us about the data set?"
   ]
  },
  {
   "cell_type": "markdown",
   "metadata": {},
   "source": [
    "First, I got a value count of the gender make-up of the dataset"
   ]
  },
  {
   "cell_type": "code",
   "execution_count": 13,
   "metadata": {},
   "outputs": [],
   "source": [
    "males = df.query('gender == \"M\"')\n",
    "females = df.query('gender == \"F\"')\n",
    "\n",
    "males_count = males.gender.count()\n",
    "females_count = females.gender.count()"
   ]
  },
  {
   "cell_type": "markdown",
   "metadata": {},
   "source": [
    "In order to get a picture of the percentage of the dataset that is females vs. that is male, I plotted a pie chart as follows:"
   ]
  },
  {
   "cell_type": "code",
   "execution_count": 14,
   "metadata": {},
   "outputs": [
    {
     "data": {
      "image/png": "[encoded data removed]",
      "text/plain": [
       "<matplotlib.figure.Figure at 0x7f30fde4db38>"
      ]
     },
     "metadata": {},
     "output_type": "display_data"
    }
   ],
   "source": [
    "# Plotting the pie chart\n",
    "gender_counts = [males_count, females_count]\n",
    "gender_names = ['Males','Females']\n",
    "\n",
    "plt.pie(gender_counts, labels = gender_names)\n",
    "plt.title('Gender make-up of the dataset');"
   ]
  },
  {
   "cell_type": "markdown",
   "metadata": {},
   "source": [
    "Nearly 66% of the dataset consists of female patients, and a litte over 33% of it consists of males. This may have implications on the insights uncovered in the next question: since the data mostly contains records about female patients, the trends may be skewed by gender, and leading from that, the recommendations made may not be generally applicable to all patients.\n",
    "\n",
    "Further questions could be developed for root cause or multi-variate analysis on this information uncovered: For example, Are more women sick than men in Brazil? Or, do more women tend to setup appointments when they feel ill?"
   ]
  },
  {
   "cell_type": "markdown",
   "metadata": {},
   "source": [
    "### Question 2. How much do health conditions affect a patient's willigness to show up to an appointment?\n"
   ]
  },
  {
   "cell_type": "markdown",
   "metadata": {},
   "source": [
    "I started the analysis at the highest level, comparing no_show between patients without any illnesses and with at least 1 illness. I queried the dataset for patients with those characteristics, and then plotted their proportions on a bar chart. I chose to use proportions of no_show in order to offset the difference in the number of records between those queries."
   ]
  },
  {
   "cell_type": "code",
   "execution_count": 16,
   "metadata": {},
   "outputs": [],
   "source": [
    "# Querying to subset df with no illnesses and with at least 1 illness\n",
    "df_no_illness = df.query('num_of_diseases == 0')\n",
    "df_ill = df.query('num_of_diseases > 0')"
   ]
  },
  {
   "cell_type": "code",
   "execution_count": 17,
   "metadata": {},
   "outputs": [],
   "source": [
    "# Getting proportions of patients that were no-shows within their subsets (divide no_show count by the total number in the respective subset)\n",
    "no_ill_no_show = df_no_illness.no_show.sum()\n",
    "ill_no_show = df_ill.no_show.sum()\n",
    "\n",
    "no_ill_no_show_prop = no_ill_no_show/df_no_illness.no_show.count()\n",
    "ill_no_show_prop = ill_no_show/df_ill.no_show.count()"
   ]
  },
  {
   "cell_type": "code",
   "execution_count": 18,
   "metadata": {
    "scrolled": true
   },
   "outputs": [
    {
     "data": {
      "image/png": "[encoded data removed]",
      "text/plain": [
       "<matplotlib.figure.Figure at 0x7f04a0aa6048>"
      ]
     },
     "metadata": {
      "needs_background": "light"
     },
     "output_type": "display_data"
    }
   ],
   "source": [
    "#plot comparing no_ill_no_show_prop and ill_no_show_prop\n",
    "plt.bar([\"No_shows, no health condition\", \"No-shows, at least 1 condition\"], [no_ill_no_show_prop, ill_no_show_prop])\n",
    "plt.title(\"No show proportions of patients with no diagnosis vs. those with at least 1 diagnosis\")\n",
    "plt.xlabel(\"Patient diagnoses\")\n",
    "plt.ylabel(\"Proportion of patients who were no-shows\");"
   ]
  },
  {
   "cell_type": "markdown",
   "metadata": {},
   "source": [
    "As the graph shows, patients who are either alcoholic, hypertensive, diabetic, or handicapped are more likely to show up to doctor appointments. That makes sense, as those patients are  generally more concerned with their well-being and possibly have a better relationship with their doctor, whereas non-diagnosed patients are more likely to blow off doctor appointments for other commitments.\n",
    "\n",
    "Next, I looked at whether having multiple or just 1 diagnosis affects a patient's willingness to show up at a doctor's appointment. I used the same method of obtaining those queries and plotting the analysis. "
   ]
  },
  {
   "cell_type": "code",
   "execution_count": 21,
   "metadata": {},
   "outputs": [],
   "source": [
    "# Query for num_of_diseases == 1 and > 1\n",
    "one_disease = df.query('num_of_diseases == 1')\n",
    "two_diseases = df.query('num_of_diseases == 2')\n",
    "three_diseases = df.query('num_of_diseases == 3')\n",
    "four_diseases = df.query('num_of_diseases == 4')"
   ]
  },
  {
   "cell_type": "markdown",
   "metadata": {},
   "source": [
    "I wanted to ensure that we were comparing a representative number of records between the diagnosis counts, so I checked the number of values with each disease."
   ]
  },
  {
   "cell_type": "code",
   "execution_count": 22,
   "metadata": {},
   "outputs": [
    {
     "data": {
      "text/plain": [
       "0    80574\n",
       "1    18117\n",
       "2     7658\n",
       "3      618\n",
       "4       13\n",
       "Name: num_of_diseases, dtype: int64"
      ]
     },
     "execution_count": 22,
     "metadata": {},
     "output_type": "execute_result"
    }
   ],
   "source": [
    "# Number of records with their disease counts\n",
    "df.num_of_diseases.value_counts()"
   ]
  },
  {
   "cell_type": "markdown",
   "metadata": {},
   "source": [
    "I would suggest at this point to gather more data on patients with 3 and 4 diagnoses to make the analysis more representative of the population, as there is very limited data available on those patients. I also used proportions in this case."
   ]
  },
  {
   "cell_type": "code",
   "execution_count": 23,
   "metadata": {},
   "outputs": [],
   "source": [
    "# Proportions of all no_shows within their subsets (divide no_show count by the total number in the respective subset)\n",
    "one_disease_no_show = one_disease.no_show.sum()\n",
    "two_diseases_no_show = two_diseases.no_show.sum()\n",
    "three_diseases_no_show = three_diseases.no_show.sum()\n",
    "four_diseases_no_show = four_diseases.no_show.sum()\n",
    "\n",
    "\n",
    "one_disease_no_show_prop = one_disease_no_show/one_disease.no_show.count()\n",
    "two_diseases_no_show_prop = two_diseases_no_show/two_diseases.no_show.count()\n",
    "three_diseases_no_show_prop = three_diseases_no_show/three_diseases.no_show.count()\n",
    "four_diseases_no_show_prop = four_diseases_no_show/four_diseases.no_show.count()"
   ]
  },
  {
   "cell_type": "code",
   "execution_count": 24,
   "metadata": {},
   "outputs": [
    {
     "data": {
      "image/png": "[encoded data removed]",
      "text/plain": [
       "<matplotlib.figure.Figure at 0x7f04cf553ac8>"
      ]
     },
     "metadata": {
      "needs_background": "light"
     },
     "output_type": "display_data"
    }
   ],
   "source": [
    "#plot comparing number of no-show patients with 1 disease vs number of no-show patients with at least 2 diseases \n",
    "plt.bar([\"1\", \"2\", \"3\", \"4\"], [one_disease_no_show_prop, two_diseases_no_show_prop, three_diseases_no_show_prop, four_diseases_no_show_prop])\n",
    "plt.title(\"No-show proportions of patients with different disease diagnosis numbers\")\n",
    "plt.xlabel(\"Number of diagnoses\")\n",
    "plt.ylabel(\"Proportion of patients who were no-shows\");"
   ]
  },
  {
   "cell_type": "markdown",
   "metadata": {},
   "source": [
    "From this graph, it appears that the more health conditions a patient is diagnosed with, the more likely they are to show up to their doctor's appointment with the exception of when they have all 4 conditions diagnosed. Further research into this phenomenon would need input from someone with more domain expertise in the diagnoses data provided. \n",
    "\n",
    "We will now look at which diagnosis prompts the most patients to show up to their doctor's appointments. To do this, we will query the data for records where each health condition is true. Even though there will be some overlap (since there are patients who have 2, 3, and 4 diagnoses), we are looking for correlation between each disease type and their willingness to show up to a doctor's appointment."
   ]
  },
  {
   "cell_type": "code",
   "execution_count": 25,
   "metadata": {},
   "outputs": [],
   "source": [
    "# Querying data for each diagnosis = true\n",
    "hypertensive = df.query('hypertensive == 1')\n",
    "diabetic = df.query('diabetic == 1')\n",
    "alcoholic = df.query('alcoholic == 1')\n",
    "handicapped = df.query('handicapped == 1')"
   ]
  },
  {
   "cell_type": "code",
   "execution_count": 26,
   "metadata": {},
   "outputs": [],
   "source": [
    "# Proportions of all no_shows within their subsets (divide no_show count by the total number in the respective subset)\n",
    "hypertensive_no_show = hypertensive.no_show.sum()\n",
    "diabetic_no_show = diabetic.no_show.sum()\n",
    "alcoholic_no_show = alcoholic.no_show.sum()\n",
    "handicapped_no_show = handicapped.no_show.sum()\n",
    "\n",
    "hypertensive_no_show_prop = hypertensive_no_show/hypertensive.no_show.count()\n",
    "diabetic_no_show_prop = diabetic_no_show/diabetic.no_show.count()\n",
    "alcoholic_no_show_prop = alcoholic_no_show/alcoholic.no_show.count()\n",
    "handicapped_no_show_prop = handicapped_no_show/handicapped.no_show.count()"
   ]
  },
  {
   "cell_type": "code",
   "execution_count": 27,
   "metadata": {
    "scrolled": true
   },
   "outputs": [
    {
     "data": {
      "image/png": "[encoded data removed]",
      "text/plain": [
       "<matplotlib.figure.Figure at 0x7f04a04e3ba8>"
      ]
     },
     "metadata": {
      "needs_background": "light"
     },
     "output_type": "display_data"
    }
   ],
   "source": [
    "#plot comparing number of no-show patients with each disease type \n",
    "plt.bar([\"Hypertensive\", \"Diabetic\", \"Alcoholic\", \"Handicapped\"], [hypertensive_no_show_prop, diabetic_no_show_prop, alcoholic_no_show_prop, handicapped_no_show_prop])\n",
    "plt.title(\"No-shows of patients with different diagnoses\")\n",
    "plt.xlabel(\"Diagnosis name\")\n",
    "plt.ylabel(\"Proportion of patients who were no-shows\");"
   ]
  },
  {
   "cell_type": "markdown",
   "metadata": {},
   "source": [
    "Based on this bar graph, it appears that alcoholic patients tend to be the most no-shows for their appointments.\n",
    "\n",
    "One final analysis we want to do is find out the proportion of patients with just one disease and their no-show counts."
   ]
  },
  {
   "cell_type": "code",
   "execution_count": 28,
   "metadata": {},
   "outputs": [],
   "source": [
    "# Subset patients with just 1 disease, then get all the no-shows. Then compare each disease type. Put in pie\n",
    "one_disease = df.query('num_of_diseases == 1')"
   ]
  },
  {
   "cell_type": "code",
   "execution_count": 29,
   "metadata": {},
   "outputs": [],
   "source": [
    "# Taking subsets of the one_disease dataframe for each disease\n",
    "one_hypertensive = one_disease.query('hypertensive == 1')\n",
    "one_diabetic = one_disease.query('diabetic == 1')\n",
    "one_alcoholic = one_disease.query('alcoholic == 1')\n",
    "one_handicapped = one_disease.query('handicapped == 1')"
   ]
  },
  {
   "cell_type": "code",
   "execution_count": 30,
   "metadata": {},
   "outputs": [],
   "source": [
    "# no_show proportions for each of the one_disease subsets\n",
    "one_disease_no_show_sum = one_hypertensive.no_show.sum() + one_diabetic.no_show.sum() + one_alcoholic.no_show.sum() + one_handicapped.no_show.sum()\n",
    "one_hypertensive_no_show_prop = one_hypertensive.no_show.sum()/one_disease_no_show_sum\n",
    "one_diabetic_no_show_prop = one_diabetic.no_show.sum()/one_disease_no_show_sum\n",
    "one_alcoholic_no_show_prop = one_alcoholic.no_show.sum()/one_disease_no_show_sum\n",
    "one_handicapped_no_show_prop = one_handicapped.no_show.sum()/one_disease_no_show_sum"
   ]
  },
  {
   "cell_type": "code",
   "execution_count": 31,
   "metadata": {},
   "outputs": [
    {
     "data": {
      "image/png": "[encoded data removed]",
      "text/plain": [
       "<matplotlib.figure.Figure at 0x7f049ce42978>"
      ]
     },
     "metadata": {},
     "output_type": "display_data"
    }
   ],
   "source": [
    "# Plotting the pie chart\n",
    "one_disease_no_show_props = [one_hypertensive_no_show_prop, one_diabetic_no_show_prop, one_alcoholic_no_show_prop, one_handicapped_no_show_prop]\n",
    "disease_names = ['Hypertensive', 'Diabetic', 'Alcoholic', 'Handicapped']\n",
    "\n",
    "plt.pie(one_disease_no_show_props, labels = disease_names)\n",
    "plt.title('No-shows having just one disease');"
   ]
  },
  {
   "cell_type": "markdown",
   "metadata": {},
   "source": [
    "From this comparison, we can see that hypertensive patients are the most likely to miss their appointments as compared with the rest of the diagnoses."
   ]
  },
  {
   "cell_type": "markdown",
   "metadata": {},
   "source": [
    "<a id='conclusions'></a>\n",
    "## Limitations and Conclusions\n",
    "\n",
    "Some limitations of this analysis are:\n",
    "\n",
    "1. The data set contains more records about female patients, therefore there is a high chance that conclusions in this section and the recommendations that would follow such an analysis would be skewed towards female patients.\n",
    "2. The data set also has a very small number of records where the patients have all 4 diagnoses. To some degree, that explains why the proportion of no-shows is high (near 30%) for patients with all 4 diagnoses. I would suggest gathering more data about these patients to ensure that the sample data is representative of the population.\n",
    "3. I had to remove a number of records from the data because of ages below 1 and above 100. More research into whether these records were genuine (and their inclusion in the analysis) might lead to interesting findings and future research into problems faced by those patients in showing up to their doctor's appointments.\n",
    "4. Having information about other health diagnoses will provide a fuller picture of the impact of health conditions on a patient's ability to meet their doctor.\n",
    "\n",
    "Despite those limitations, I was able to make some tentative conclusions from the data. Considering that this data was explored only at a high level, and the question posed was tackled mostly in isolation, the findings are tentative and would require more robust analysis using machine learning algorithms and statistical analysis:\n",
    "\n",
    "1. Patients with no diagnoses are more likely to miss their doctor's appointments than patients with at least one diagnosis.\n",
    "2. Patients who are diagnosed with alcoholism tend to miss their appointments more than with other diagnoses.\n",
    "3. Within patients with just one diagnosis, hypertension is the most correlated with patients missing their appointments compared to the other diagnoses.\n",
    "\n",
    "Additional research is needed into why having all 4 diagnoses leads to nearly double the appointment no-shows than having either 1, 2, or 3 diagnoses."
   ]
  },
  {
   "cell_type": "code",
   "execution_count": 15,
   "metadata": {},
   "outputs": [
    {
     "data": {
      "text/plain": [
       "0"
      ]
     },
     "execution_count": 15,
     "metadata": {},
     "output_type": "execute_result"
    }
   ],
   "source": [
    "from subprocess import call\n",
    "call(['python', '-m', 'nbconvert', 'Investigate_a_Dataset.ipynb'])"
   ]
  }
 ],
 "metadata": {
  "kernelspec": {
   "display_name": "Python 3",
   "language": "python",
   "name": "python3"
  },
  "language_info": {
   "codemirror_mode": {
    "name": "ipython",
    "version": 3
   },
   "file_extension": ".py",
   "mimetype": "text/x-python",
   "name": "python",
   "nbconvert_exporter": "python",
   "pygments_lexer": "ipython3",
   "version": "3.6.3"
  }
 },
 "nbformat": 4,
 "nbformat_minor": 2
}
